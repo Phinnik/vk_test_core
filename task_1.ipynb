{
 "cells": [
  {
   "cell_type": "markdown",
   "id": "0dcd5f5f",
   "metadata": {},
   "source": [
    "# Задание #1"
   ]
  },
  {
   "cell_type": "markdown",
   "id": "26f4994e",
   "metadata": {},
   "source": [
    "## Описание задания\n",
    "\n",
    "В сообществах появилась возможность создавать чаты для общения. Чтобы помочь пользователям начать активно использовать эту фичу, при создании сообщества администратору показывается блок с беседами, даже если их пока нет. Нужно оценить эффективность этих нововведений. Для этого необходимо узнать, какой процент сообществ создают групповые чаты в течение 7 суток с момента образования сообщества.\n",
    "\n",
    "Дана таблица со следующей структурой:\n",
    "\n",
    "```sql\n",
    "create table community_actions (\n",
    "    `time` DateTime, -- время\n",
    "    `dt` Date, -- дата\n",
    "    `user_id` Int32, -- идентификатор пользователя\n",
    "    `community_id` Int32, -- идентификатор сообщества \n",
    "    `community_registered_time` DateTime, -- время образования сообщества\n",
    "    `event` String -- действие\n",
    ")\n",
    "```\n",
    "\n",
    "В поле ‘event’ содержатся два вида событий:\n",
    "* 'CREATE_COMMUNITY' — создание сообщества,\n",
    "* 'CREATE_CHAT' — создание чата.\n",
    "\n",
    "Необходимо написать SQL-запрос, который возвращал бы процент сообществ, создающих чаты в течение 7 суток с момента своего создания, сгруппированные по дням. Интересующий период наблюдения: последние 60 суток с текущего времени."
   ]
  },
  {
   "cell_type": "markdown",
   "id": "f93c923a",
   "metadata": {},
   "source": [
    "## Ответ сразу:\n",
    "\n",
    "```sql\n",
    "SELECT\n",
    "    DateDiff('day', community_registered_time, dt) AS days,\n",
    "    COUNT(*) / (\n",
    "        SELECT COUNT(*) \n",
    "        FROM vk_task_core.community_actions \n",
    "        WHERE DateDiff('day', community_registered_time, now()) <= 60 and event == 'CREATE_CHAT'\n",
    "    ) * 100\n",
    "FROM vk_task_core.community_actions\n",
    "WHERE\n",
    "    DateDiff('day', community_registered_time, now()) <= 60\n",
    "    and event == 'CREATE_CHAT'\n",
    "    and days <= 7\n",
    "GROUP BY days\n",
    "ORDER BY days\n",
    "```"
   ]
  },
  {
   "cell_type": "markdown",
   "id": "c7a2539a",
   "metadata": {},
   "source": [
    "### Пояснение"
   ]
  },
  {
   "cell_type": "code",
   "execution_count": 1,
   "id": "dd7e821f",
   "metadata": {},
   "outputs": [],
   "source": [
    "import requests\n",
    "import pandas as pd\n",
    "from io import StringIO\n",
    "from datetime import datetime, timedelta\n",
    "import matplotlib.pyplot as plt\n",
    "from scipy.stats import skewnorm\n",
    "import numpy as np\n",
    "import seaborn as sns"
   ]
  },
  {
   "cell_type": "code",
   "execution_count": 2,
   "id": "91d014ad",
   "metadata": {},
   "outputs": [],
   "source": [
    "# Функции запросов к БД\n",
    "\n",
    "host = 'http://localhost:8123'\n",
    "username = 'default'\n",
    "password = '123'\n",
    "\n",
    "def get_query_response(query, host=host, username=username, password=password):\n",
    "    r = requests.post(host, data=query, auth=(username, password))\n",
    "    return r.text\n",
    "\n",
    "def get_data(query):\n",
    "    r = get_query_response(query)\n",
    "    return pd.read_csv(StringIO(r), sep='\\t', header=None)"
   ]
  },
  {
   "cell_type": "markdown",
   "id": "fe48bc71",
   "metadata": {},
   "source": [
    "#### Создание базы данных"
   ]
  },
  {
   "cell_type": "code",
   "execution_count": 3,
   "id": "32ce9c4b",
   "metadata": {},
   "outputs": [],
   "source": [
    "# На всякий случай удалю таблицу\n",
    "get_query_response('DROP TABLE IF EXISTS vk_task_core.community_actions')\n",
    "# Создаю таблицу\n",
    "get_query_response('CREATE DATABASE IF NOT EXISTS vk_task_core')\n",
    "get_query_response(\"\"\"\n",
    "create table IF NOT EXISTS vk_task_core.community_actions (\n",
    "    `time` DateTime,\n",
    "    `dt` Date,\n",
    "    `user_id` Int32,\n",
    "    `community_id` Int32, \n",
    "    `community_registered_time` DateTime,\n",
    "    `event` String\n",
    ")\n",
    "ENGINE = MergeTree()\n",
    "ORDER BY time\n",
    "\"\"\");"
   ]
  },
  {
   "cell_type": "code",
   "execution_count": 4,
   "id": "e061303a",
   "metadata": {},
   "outputs": [],
   "source": [
    "# даты создания сообществ\n",
    "\n",
    "comunities_per_day = 500 # количество сообществ, создаваемых в день\n",
    "total_comunities = 3 * 30 * comunities_per_day # всего сообществ в базе данных\n",
    "\n",
    "comunity_creation_dates = [datetime.now() - timedelta(days=i // comunities_per_day)\n",
    "                           for i in range(total_comunities)]"
   ]
  },
  {
   "cell_type": "code",
   "execution_count": 5,
   "id": "54e94df0",
   "metadata": {},
   "outputs": [
    {
     "data": {
      "image/png": "[encoded data removed]",
      "text/plain": [
       "<Figure size 432x288 with 1 Axes>"
      ]
     },
     "metadata": {
      "needs_background": "light"
     },
     "output_type": "display_data"
    }
   ],
   "source": [
    "# Задаю даты создания чатов skewnorm распределением\n",
    "chat_creation_deltas = skewnorm.rvs(2.4, loc=5, scale=8, size=total_comunities, random_state=42).astype(int)\n",
    "chat_creation_deltas = np.abs(chat_creation_deltas)\n",
    "chat_creation_dates = [d + timedelta(int(delta)) for d, delta in zip(comunity_creation_dates, chat_creation_deltas)]\n",
    "\n",
    "plt.hist(chat_creation_deltas, bins=30)\n",
    "plt.title('Распределение дней, в течение которых создали чат');"
   ]
  },
  {
   "cell_type": "code",
   "execution_count": 6,
   "id": "ee541054",
   "metadata": {},
   "outputs": [],
   "source": [
    "# Заполняю таблицу данными\n",
    "\n",
    "list_values = []\n",
    "for i, (comunity_date, chat_date) in enumerate(zip(comunity_creation_dates, chat_creation_dates)):\n",
    "    cr_time = comunity_date.strftime('%Y-%m-%d %H:%M:%S')\n",
    "    cr_dt = comunity_date.strftime('%Y-%m-%d')\n",
    "    comunity_creation_values = f\"('{cr_time}', '{cr_dt}', {i+1}, {i+1}, '{cr_dt}', 'CREATE_COMMUNITY')\"\n",
    "    \n",
    "    ch_time = chat_date.strftime('%Y-%m-%d %H:%M:%S')\n",
    "    ch_date = chat_date.strftime('%Y-%m-%d')\n",
    "    chat_creation_values = f\"('{ch_time}', '{ch_date}', {i+1}, {i+1}, '{cr_dt}', 'CREATE_CHAT')\"\n",
    "    \n",
    "    \n",
    "    list_values.append(comunity_creation_values)\n",
    "    list_values.append(chat_creation_values)\n",
    "    \n",
    "list_values = ', '.join(list_values)\n",
    "query = f'INSERT INTO vk_task_core.community_actions VALUES {list_values}'\n",
    "get_query_response(query);"
   ]
  },
  {
   "cell_type": "code",
   "execution_count": 8,
   "id": "cb399c65",
   "metadata": {},
   "outputs": [
    {
     "data": {
      "text/html": [
       "<div>\n",
       "<style scoped>\n",
       "    .dataframe tbody tr th:only-of-type {\n",
       "        vertical-align: middle;\n",
       "    }\n",
       "\n",
       "    .dataframe tbody tr th {\n",
       "        vertical-align: top;\n",
       "    }\n",
       "\n",
       "    .dataframe thead th {\n",
       "        text-align: right;\n",
       "    }\n",
       "</style>\n",
       "<table border=\"1\" class=\"dataframe\">\n",
       "  <thead>\n",
       "    <tr style=\"text-align: right;\">\n",
       "      <th></th>\n",
       "      <th>time</th>\n",
       "      <th>dt</th>\n",
       "      <th>user_id</th>\n",
       "      <th>community_id</th>\n",
       "      <th>community_registered_time</th>\n",
       "      <th>event</th>\n",
       "    </tr>\n",
       "  </thead>\n",
       "  <tbody>\n",
       "    <tr>\n",
       "      <th>0</th>\n",
       "      <td>2021-03-28 17:19:27</td>\n",
       "      <td>2021-03-28</td>\n",
       "      <td>44501</td>\n",
       "      <td>44501</td>\n",
       "      <td>2021-03-28 00:00:00</td>\n",
       "      <td>CREATE_COMMUNITY</td>\n",
       "    </tr>\n",
       "    <tr>\n",
       "      <th>1</th>\n",
       "      <td>2021-03-28 17:19:27</td>\n",
       "      <td>2021-03-28</td>\n",
       "      <td>44502</td>\n",
       "      <td>44502</td>\n",
       "      <td>2021-03-28 00:00:00</td>\n",
       "      <td>CREATE_COMMUNITY</td>\n",
       "    </tr>\n",
       "    <tr>\n",
       "      <th>2</th>\n",
       "      <td>2021-03-28 17:19:27</td>\n",
       "      <td>2021-03-28</td>\n",
       "      <td>44503</td>\n",
       "      <td>44503</td>\n",
       "      <td>2021-03-28 00:00:00</td>\n",
       "      <td>CREATE_COMMUNITY</td>\n",
       "    </tr>\n",
       "    <tr>\n",
       "      <th>3</th>\n",
       "      <td>2021-03-28 17:19:27</td>\n",
       "      <td>2021-03-28</td>\n",
       "      <td>44504</td>\n",
       "      <td>44504</td>\n",
       "      <td>2021-03-28 00:00:00</td>\n",
       "      <td>CREATE_COMMUNITY</td>\n",
       "    </tr>\n",
       "    <tr>\n",
       "      <th>4</th>\n",
       "      <td>2021-03-28 17:19:27</td>\n",
       "      <td>2021-03-28</td>\n",
       "      <td>44505</td>\n",
       "      <td>44505</td>\n",
       "      <td>2021-03-28 00:00:00</td>\n",
       "      <td>CREATE_COMMUNITY</td>\n",
       "    </tr>\n",
       "    <tr>\n",
       "      <th>...</th>\n",
       "      <td>...</td>\n",
       "      <td>...</td>\n",
       "      <td>...</td>\n",
       "      <td>...</td>\n",
       "      <td>...</td>\n",
       "      <td>...</td>\n",
       "    </tr>\n",
       "    <tr>\n",
       "      <th>89995</th>\n",
       "      <td>2021-07-23 17:19:27</td>\n",
       "      <td>2021-07-23</td>\n",
       "      <td>1958</td>\n",
       "      <td>1958</td>\n",
       "      <td>2021-06-22 00:00:00</td>\n",
       "      <td>CREATE_CHAT</td>\n",
       "    </tr>\n",
       "    <tr>\n",
       "      <th>89996</th>\n",
       "      <td>2021-07-24 17:19:27</td>\n",
       "      <td>2021-07-24</td>\n",
       "      <td>1592</td>\n",
       "      <td>1592</td>\n",
       "      <td>2021-06-22 00:00:00</td>\n",
       "      <td>CREATE_CHAT</td>\n",
       "    </tr>\n",
       "    <tr>\n",
       "      <th>89997</th>\n",
       "      <td>2021-07-24 17:19:27</td>\n",
       "      <td>2021-07-24</td>\n",
       "      <td>1972</td>\n",
       "      <td>1972</td>\n",
       "      <td>2021-06-22 00:00:00</td>\n",
       "      <td>CREATE_CHAT</td>\n",
       "    </tr>\n",
       "    <tr>\n",
       "      <th>89998</th>\n",
       "      <td>2021-07-25 17:19:27</td>\n",
       "      <td>2021-07-25</td>\n",
       "      <td>2896</td>\n",
       "      <td>2896</td>\n",
       "      <td>2021-06-20 00:00:00</td>\n",
       "      <td>CREATE_CHAT</td>\n",
       "    </tr>\n",
       "    <tr>\n",
       "      <th>89999</th>\n",
       "      <td>2021-07-26 17:19:27</td>\n",
       "      <td>2021-07-26</td>\n",
       "      <td>210</td>\n",
       "      <td>210</td>\n",
       "      <td>2021-06-25 00:00:00</td>\n",
       "      <td>CREATE_CHAT</td>\n",
       "    </tr>\n",
       "  </tbody>\n",
       "</table>\n",
       "<p>90000 rows × 6 columns</p>\n",
       "</div>"
      ],
      "text/plain": [
       "                      time          dt  user_id  community_id  \\\n",
       "0      2021-03-28 17:19:27  2021-03-28    44501         44501   \n",
       "1      2021-03-28 17:19:27  2021-03-28    44502         44502   \n",
       "2      2021-03-28 17:19:27  2021-03-28    44503         44503   \n",
       "3      2021-03-28 17:19:27  2021-03-28    44504         44504   \n",
       "4      2021-03-28 17:19:27  2021-03-28    44505         44505   \n",
       "...                    ...         ...      ...           ...   \n",
       "89995  2021-07-23 17:19:27  2021-07-23     1958          1958   \n",
       "89996  2021-07-24 17:19:27  2021-07-24     1592          1592   \n",
       "89997  2021-07-24 17:19:27  2021-07-24     1972          1972   \n",
       "89998  2021-07-25 17:19:27  2021-07-25     2896          2896   \n",
       "89999  2021-07-26 17:19:27  2021-07-26      210           210   \n",
       "\n",
       "      community_registered_time             event  \n",
       "0           2021-03-28 00:00:00  CREATE_COMMUNITY  \n",
       "1           2021-03-28 00:00:00  CREATE_COMMUNITY  \n",
       "2           2021-03-28 00:00:00  CREATE_COMMUNITY  \n",
       "3           2021-03-28 00:00:00  CREATE_COMMUNITY  \n",
       "4           2021-03-28 00:00:00  CREATE_COMMUNITY  \n",
       "...                         ...               ...  \n",
       "89995       2021-06-22 00:00:00       CREATE_CHAT  \n",
       "89996       2021-06-22 00:00:00       CREATE_CHAT  \n",
       "89997       2021-06-22 00:00:00       CREATE_CHAT  \n",
       "89998       2021-06-20 00:00:00       CREATE_CHAT  \n",
       "89999       2021-06-25 00:00:00       CREATE_CHAT  \n",
       "\n",
       "[90000 rows x 6 columns]"
      ]
     },
     "execution_count": 8,
     "metadata": {},
     "output_type": "execute_result"
    }
   ],
   "source": [
    "# Проверяю заполнение данных\n",
    "query = \"\"\"\n",
    "select * from vk_task_core.community_actions\n",
    "\"\"\"\n",
    "df = get_data(query)\n",
    "df.columns = ['time', 'dt', 'user_id', 'community_id', 'community_registered_time', 'event']\n",
    "df"
   ]
  },
  {
   "cell_type": "markdown",
   "id": "b9fb8bcf",
   "metadata": {},
   "source": [
    "### Запрос"
   ]
  },
  {
   "cell_type": "markdown",
   "id": "2b47273d",
   "metadata": {},
   "source": [
    "```sql\n",
    "SELECT * from \n",
    "```"
   ]
  },
  {
   "cell_type": "code",
   "execution_count": 10,
   "id": "7cdec822",
   "metadata": {},
   "outputs": [
    {
     "data": {
      "text/html": [
       "<div>\n",
       "<style scoped>\n",
       "    .dataframe tbody tr th:only-of-type {\n",
       "        vertical-align: middle;\n",
       "    }\n",
       "\n",
       "    .dataframe tbody tr th {\n",
       "        vertical-align: top;\n",
       "    }\n",
       "\n",
       "    .dataframe thead th {\n",
       "        text-align: right;\n",
       "    }\n",
       "</style>\n",
       "<table border=\"1\" class=\"dataframe\">\n",
       "  <thead>\n",
       "    <tr style=\"text-align: right;\">\n",
       "      <th></th>\n",
       "      <th>days</th>\n",
       "      <th>percentage</th>\n",
       "    </tr>\n",
       "  </thead>\n",
       "  <tbody>\n",
       "    <tr>\n",
       "      <th>0</th>\n",
       "      <td>0</td>\n",
       "      <td>1.245902</td>\n",
       "    </tr>\n",
       "    <tr>\n",
       "      <th>1</th>\n",
       "      <td>1</td>\n",
       "      <td>1.495082</td>\n",
       "    </tr>\n",
       "    <tr>\n",
       "      <th>2</th>\n",
       "      <td>2</td>\n",
       "      <td>2.196721</td>\n",
       "    </tr>\n",
       "    <tr>\n",
       "      <th>3</th>\n",
       "      <td>3</td>\n",
       "      <td>3.255738</td>\n",
       "    </tr>\n",
       "    <tr>\n",
       "      <th>4</th>\n",
       "      <td>4</td>\n",
       "      <td>4.422951</td>\n",
       "    </tr>\n",
       "    <tr>\n",
       "      <th>5</th>\n",
       "      <td>5</td>\n",
       "      <td>5.731148</td>\n",
       "    </tr>\n",
       "    <tr>\n",
       "      <th>6</th>\n",
       "      <td>6</td>\n",
       "      <td>6.511475</td>\n",
       "    </tr>\n",
       "    <tr>\n",
       "      <th>7</th>\n",
       "      <td>7</td>\n",
       "      <td>7.406557</td>\n",
       "    </tr>\n",
       "  </tbody>\n",
       "</table>\n",
       "</div>"
      ],
      "text/plain": [
       "   days  percentage\n",
       "0     0    1.245902\n",
       "1     1    1.495082\n",
       "2     2    2.196721\n",
       "3     3    3.255738\n",
       "4     4    4.422951\n",
       "5     5    5.731148\n",
       "6     6    6.511475\n",
       "7     7    7.406557"
      ]
     },
     "execution_count": 10,
     "metadata": {},
     "output_type": "execute_result"
    }
   ],
   "source": [
    "# И выполняю запрос\n",
    "\n",
    "df = get_data(\"\"\"\n",
    "SELECT\n",
    "    DateDiff('day', community_registered_time, dt) AS days,\n",
    "    COUNT(*) / (\n",
    "        SELECT COUNT(*) \n",
    "        FROM vk_task_core.community_actions \n",
    "        WHERE DateDiff('day', community_registered_time, now()) <= 60 and event == 'CREATE_CHAT'\n",
    "    ) * 100\n",
    "FROM vk_task_core.community_actions\n",
    "WHERE\n",
    "    DateDiff('day', community_registered_time, now()) <= 60\n",
    "    and event == 'CREATE_CHAT'\n",
    "    and days <= 7\n",
    "GROUP BY days\n",
    "ORDER BY days\n",
    "\"\"\")\n",
    "df.columns = ['days', 'percentage']\n",
    "df"
   ]
  },
  {
   "cell_type": "code",
   "execution_count": 11,
   "id": "c16a5c25",
   "metadata": {},
   "outputs": [
    {
     "data": {
      "image/png": "[encoded data removed]",
      "text/plain": [
       "<Figure size 432x288 with 1 Axes>"
      ]
     },
     "metadata": {
      "needs_background": "light"
     },
     "output_type": "display_data"
    }
   ],
   "source": [
    "bars = plt.bar(x=df['days'], height=df['percentage'])\n",
    "for i, value in enumerate(df['percentage'].values):\n",
    "    v = str(np.around(value, decimals=1)) + '%'\n",
    "    plt.text(i, value-0.5, v, ha='center', color='white')\n",
    "plt.xlabel('День, создания чата');"
   ]
  },
  {
   "cell_type": "code",
   "execution_count": null,
   "id": "20b0f76b",
   "metadata": {},
   "outputs": [],
   "source": []
  }
 ],
 "metadata": {
  "kernelspec": {
   "display_name": "Python 3",
   "language": "python",
   "name": "python3"
  },
  "language_info": {
   "codemirror_mode": {
    "name": "ipython",
    "version": 3
   },
   "file_extension": ".py",
   "mimetype": "text/x-python",
   "name": "python",
   "nbconvert_exporter": "python",
   "pygments_lexer": "ipython3",
   "version": "3.8.10"
  },
  "toc": {
   "base_numbering": 1,
   "nav_menu": {},
   "number_sections": true,
   "sideBar": true,
   "skip_h1_title": false,
   "title_cell": "Table of Contents",
   "title_sidebar": "Contents",
   "toc_cell": false,
   "toc_position": {},
   "toc_section_display": true,
   "toc_window_display": false
  },
  "varInspector": {
   "cols": {
    "lenName": 16,
    "lenType": 16,
    "lenVar": 40
   },
   "kernels_config": {
    "python": {
     "delete_cmd_postfix": "",
     "delete_cmd_prefix": "del ",
     "library": "var_list.py",
     "varRefreshCmd": "print(var_dic_list())"
    },
    "r": {
     "delete_cmd_postfix": ") ",
     "delete_cmd_prefix": "rm(",
     "library": "var_list.r",
     "varRefreshCmd": "cat(var_dic_list()) "
    }
   },
   "types_to_exclude": [
    "module",
    "function",
    "builtin_function_or_method",
    "instance",
    "_Feature"
   ],
   "window_display": false
  }
 },
 "nbformat": 4,
 "nbformat_minor": 5
}
